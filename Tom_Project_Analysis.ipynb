{
 "cells": [
  {
   "cell_type": "code",
   "execution_count": 19,
   "id": "cce9ae3e-4b9f-420d-8a86-12e9da1e0195",
   "metadata": {},
   "outputs": [],
   "source": [
    "import pandas as pd \n",
    "import numpy as np \n",
    "import statistics as s \n",
    "from scipy.stats import ttest_ind\n",
    "import matplotlib.pyplot as plt "
   ]
  },
  {
   "cell_type": "code",
   "execution_count": 15,
   "id": "d84abbb7-863a-4927-9796-6eb9a8f7830d",
   "metadata": {},
   "outputs": [],
   "source": [
    "# Manually import data from spreadsheet\n",
    "awareness = [1, 0, 1, 1, 1, 0, 1, 0, 0, 1, 0, 1, 1, 0, 1, 0, 1, 1, 1, 0]\n",
    "privary_concern = [4, 2, 3, 2, 4, 4, 5, 4, 3, 3, 1, 3, 4, 2, 5, 2, 5, 5, 2, 2] "
   ]
  },
  {
   "cell_type": "code",
   "execution_count": 16,
   "id": "78f6cf61-af70-44e7-b4a5-db4fd7638c54",
   "metadata": {},
   "outputs": [],
   "source": [
    "# Group data by response \n",
    "aware_yes = [4, 3, 2, 4, 5, 3, 3, 4, 5, 5, 5, 2]\n",
    "aware_no = [2, 4, 4, 3, 1, 2, 2, 2]"
   ]
  },
  {
   "cell_type": "code",
   "execution_count": 18,
   "id": "3345f40a-4cd7-4252-ae36-d53d89ff6509",
   "metadata": {},
   "outputs": [
    {
     "name": "stdout",
     "output_type": "stream",
     "text": [
      "GDPR aware: mean concern score 3.75\n",
      "GDPR unaware: mean concern score 2.5\n"
     ]
    }
   ],
   "source": [
    "# Check means \n",
    "mean_concern_aware = s.mean(aware_yes)\n",
    "mean_concern_unaware = s.mean(aware_no)\n",
    "\n",
    "print('GDPR aware: mean concern score', mean_concern_aware)\n",
    "print('GDPR unaware: mean concern score', mean_concern_unaware)"
   ]
  },
  {
   "cell_type": "code",
   "execution_count": 20,
   "id": "c2bdc97a-970e-4bb5-8e92-75c33a66f4c8",
   "metadata": {},
   "outputs": [
    {
     "data": {
      "text/plain": [
       "(2.4632124817678798, 0.024076670729781785)"
      ]
     },
     "execution_count": 20,
     "metadata": {},
     "output_type": "execute_result"
    }
   ],
   "source": [
    "# Check for significance \n",
    "t_stat, p_value = ttest_ind(aware_yes, aware_no)\n",
    "t_stat, p_value"
   ]
  },
  {
   "cell_type": "code",
   "execution_count": 51,
   "id": "859ed5a5-40ff-4710-b4df-e3ec43a2e15b",
   "metadata": {},
   "outputs": [
    {
     "data": {
      "image/png": "[encoded data removed]",
      "text/plain": [
       "<Figure size 640x480 with 1 Axes>"
      ]
     },
     "metadata": {},
     "output_type": "display_data"
    }
   ],
   "source": [
    "# Calculate means and standard errors of the means for the two groups\n",
    "means = [np.mean(aware_yes), np.mean(aware_no)]\n",
    "sems = [np.std(aware_yes, ddof=1) / np.sqrt(len(aware_yes)),\n",
    "        np.std(aware_no, ddof=1) / np.sqrt(len(aware_no))]\n",
    "\n",
    "# Define the labels and positions\n",
    "labels = ['Awareness Yes', 'Awareness No']\n",
    "x_pos = np.arange(len(labels))\n",
    "\n",
    "# Create the bar chart with different colors for each bar\n",
    "fig, ax = plt.subplots()\n",
    "bars = ax.bar(x_pos, means, yerr=sems, align='center', alpha=0.7, ecolor='black', capsize=10)\n",
    "\n",
    "# Setting individual colors\n",
    "bars[0].set_color('royalblue')  # First bar\n",
    "bars[1].set_color('#ff6961')   # Second bar\n",
    "\n",
    "\n",
    "# Calculate the top of the error bars for both bars\n",
    "y1 = means[0] + sems[0]\n",
    "y2 = means[1] + sems[1]\n",
    "\n",
    "\n",
    "# Setting the height of the significance line to be above the error bars\n",
    "line_height = max(y1, y2) + 1.25  # Adding a small value to put the line above the error bars\n",
    "connector_height = line_height + 0\n",
    "\n",
    "# Drawing the significance line and connectors\n",
    "ax.plot([x_pos[0], x_pos[0]], [y1, connector_height], color='black', lw=1.5) # Left connector\n",
    "ax.plot([x_pos[1], x_pos[1]], [y2, line_height], color='black', lw=1.5)      # Right connector, shorter\n",
    "ax.plot([x_pos[0], x_pos[1]], [connector_height, connector_height], color='black', lw=1.5) # Top connector\n",
    "\n",
    "# Adding significance stars\n",
    "ax.text((x_pos[0] + x_pos[1]) / 2, connector_height, '*', ha='center', va='bottom', color='black')\n",
    "\n",
    "# Labels\n",
    "ax.set_ylabel('Privacy Concern Score')\n",
    "ax.set_xticks(x_pos)\n",
    "ax.set_xticklabels(labels)\n",
    "\n",
    "# Annotate the stat significance on the graph\n",
    "y_max = max(means) + sems[0] + 0.95\n",
    "ax.text(0.5, y_max, f'p = {p_value:.3f}', ha='center', va='bottom')\n",
    "\n",
    "# Show the bar chart\n",
    "plt.tight_layout()\n",
    "plt.show()"
   ]
  },
  {
   "cell_type": "code",
   "execution_count": null,
   "id": "74672586-499a-4aab-8a7e-5ca7a913ac45",
   "metadata": {},
   "outputs": [],
   "source": []
  }
 ],
 "metadata": {
  "kernelspec": {
   "display_name": "Python 3 (ipykernel)",
   "language": "python",
   "name": "python3"
  },
  "language_info": {
   "codemirror_mode": {
    "name": "ipython",
    "version": 3
   },
   "file_extension": ".py",
   "mimetype": "text/x-python",
   "name": "python",
   "nbconvert_exporter": "python",
   "pygments_lexer": "ipython3",
   "version": "3.10.2"
  }
 },
 "nbformat": 4,
 "nbformat_minor": 5
}
